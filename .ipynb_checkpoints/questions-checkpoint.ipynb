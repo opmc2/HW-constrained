{
 "cells": [
  {
   "cell_type": "markdown",
   "metadata": {
    "deletable": true,
    "editable": true
   },
   "source": [
    "# A Portfolio Choice Problem\n",
    "\n",
    "We want to solve the portfolio allocation problem of an investor. \n",
    "\n",
    "* Assume we have $n$ assets, and asset number 1 is the safe asset. It will pay 1 for sure next period.\n",
    "* Assets $i=2,\\dots,n$ are risky and pay $z_i^s$ in state $s=1,\\dots,S$\n",
    "* State $s$ occurs with probability $\\pi^s$\n",
    "* The investor is characterized by\n",
    "    * an initial endowment of each asset: $(e_1,e_2,\\dots,e_n)$\n",
    "    * a utility function $u(c) = -\\exp(-ac)$\n",
    "* The problem of the investor is\n",
    "    $$ \\begin{align}\n",
    "    \\underset{c,\\omega_1,\\dots,\\omega_n}{\\max} u(c) &+ \\sum_{s=1}^S \\pi^s u \\left( \\sum_{i=1}^n \\omega_i z_i^s \\right) \\\\\n",
    "    \\text{subject to  } \\qquad c &+ \\sum_{i=1}^n p_i (\\omega_i - e_i) = 0 \\end{align} $$"
   ]
  },
  {
   "cell_type": "markdown",
   "metadata": {},
   "source": [
    "* Note that the partial derivatives of the objective function and constraint are:\n",
    "$$ \\begin{align}\n",
    "    \\text{Objective wrt } c \\,: &\\quad u'(c) \\\\\n",
    "    \\text{wrt } \\omega_i \\,: &\\quad \\sum_{s=1}^{S} z_i^s \\pi^s u'\\left(\\sum_{j=1}^n \\omega_j z_j^s\\right) \\\\\n",
    "    \\text{Constraint wrt } c\\,: &\\quad 1 \\\\\n",
    "    \\text{wrt } \\omega_i \\,: &\\quad p_i\n",
    "    \\end{align}\n",
    "$$\n",
    "        "
   ]
  },
  {
   "cell_type": "markdown",
   "metadata": {
    "deletable": true,
    "editable": true
   },
   "source": [
    "### Questions\n",
    "\n",
    "* Assume $n=3,p=(1,1,1),e=(2,0,0)$ and suppose that $z_2 = (0.72,0.92,1.12,1.32),z_3=(0.86,0.96,1.06,1.16)$. Each of these realizations is equally likely to occur, and all assets are independent. This means we have a total of $4\\times4=16$ random states.\n",
    "\n",
    "1. Solve this problem using `NLopt`. \n",
    "    * Define 2 functions `obj` and `constraint`, similar to the way we set this up in class.\n",
    "    * In particular, remember that both need to modify their gradient `in-place`. \n",
    "2. Solve the problem using `JuMP`.\n",
    "    * Stick to the example given in the slides.\n",
    "3. For both approaches, compute 3 different solutions for parameter $a\\in\\{0.5,1,1.5\\}$\n",
    "    \n",
    "### Solutions\n",
    "\n",
    "Your solution in both cases is correct if it produces the following table:\n",
    "\n",
    "| a   | c       | omega1    | omega2    | omega3   | fval      |\n",
    "|-----|---------|-----------|-----------|----------|-----------|\n",
    "| 0.5 | 1.00801 | -1.41237  | 0.801458  | 1.60291  | -1.20821  |\n",
    "| 1.0 | 1.00401 | -0.206197 | 0.400729  | 0.801462 | -0.732819 |\n",
    "| 5.0 | 1.0008  | 0.758762  | 0.0801456 | 0.160291 | -0.013422 |\n",
    "\n",
    "* Your tests should contain this table as a `DataFrame` called `truth`.\n",
    "* You should provide functions `table_JuMP()` and `table_NLopt()`, each of which produces this table.\n",
    "* The test is then to compare each column of your function output to `truth`\n",
    "\n"
   ]
  },
  {
   "cell_type": "code",
   "execution_count": 1,
   "metadata": {
    "collapsed": false,
    "deletable": true,
    "editable": true
   },
   "outputs": [
    {
     "data": {
      "text/plain": [
       "uprime (generic function with 1 method)"
      ]
     },
     "execution_count": 1,
     "metadata": {},
     "output_type": "execute_result"
    }
   ],
   "source": [
    "using NLopt\n",
    "using DataFrames\n",
    "using Base.Test\n",
    "u(a,c) = -exp(-a*c)\n",
    "uprime(a,c) = a*exp(-a*c)"
   ]
  },
  {
   "cell_type": "code",
   "execution_count": 2,
   "metadata": {
    "collapsed": false
   },
   "outputs": [
    {
     "data": {
      "text/plain": [
       "Dict{String,Any} with 6 entries:\n",
       "  \"pi\" => 0.0625\n",
       "  \"e\"  => [2,0,0]\n",
       "  \"z\"  => [1.0 0.72 0.86; 1.0 0.92 0.86; … ; 1.0 1.12 1.16; 1.0 1.32 1.16]\n",
       "  \"a\"  => 1\n",
       "  \"p\"  => [1,1,1]\n",
       "  \"n\"  => 3"
      ]
     },
     "execution_count": 2,
     "metadata": {},
     "output_type": "execute_result"
    }
   ],
   "source": [
    "function data(a=1)\n",
    "    pi = 1/16\n",
    "    n = 3\n",
    "    p = [ 1, 1, 1 ]\n",
    "    e = [ 2, 0, 0 ]\n",
    "    z = [repeat([1],inner=16) repeat([.72,.92,1.12,1.32], outer=4) repeat([.86,.96,1.06,1.16], inner=4)]\n",
    "    return Dict(\"a\" => a, \"n\" => n, \"p\" => p, \"e\" => e, \"z\" => z, \"pi\" => pi)\n",
    "end\n",
    "d = data()"
   ]
  },
  {
   "cell_type": "code",
   "execution_count": 3,
   "metadata": {
    "collapsed": false
   },
   "outputs": [
    {
     "data": {
      "text/plain": [
       "obj (generic function with 1 method)"
      ]
     },
     "execution_count": 3,
     "metadata": {},
     "output_type": "execute_result"
    }
   ],
   "source": [
    "function obj(x::Vector,grad::Vector,data::Dict)\n",
    "    if length(grad) > 0\n",
    "        grad[1] = -uprime(data[\"a\"],x[1])\n",
    "        grad[2] = -sum(data[\"z\"][s,1]*data[\"pi\"]*uprime(data[\"a\"],sum(x[j+1]*data[\"z\"][s,j] for j in 1:data[\"n\"])) for s in 1:16 )\n",
    "        grad[3] = -sum(data[\"z\"][s,2]*data[\"pi\"]*uprime(data[\"a\"],sum(x[j+1]*data[\"z\"][s,j] for j in 1:data[\"n\"])) for s in 1:16 )\n",
    "        grad[4] = -sum(data[\"z\"][s,3]*data[\"pi\"]*uprime(data[\"a\"],sum(x[j+1]*data[\"z\"][s,j] for j in 1:data[\"n\"])) for s in 1:16 )\n",
    "    end\n",
    "    return -u(data[\"a\"],x[1]) - sum(data[\"pi\"]*u(data[\"a\"],sum(x[j+1]*data[\"z\"][s,j] for j in 1:data[\"n\"])) for s in 1:16 )\n",
    "end\n",
    "                                                                                \n"
   ]
  },
  {
   "cell_type": "code",
   "execution_count": 4,
   "metadata": {
    "collapsed": false
   },
   "outputs": [
    {
     "data": {
      "text/plain": [
       "constr2 (generic function with 1 method)"
      ]
     },
     "execution_count": 4,
     "metadata": {},
     "output_type": "execute_result"
    }
   ],
   "source": [
    "function constr(x::Vector,grad::Vector,data::Dict)\n",
    "    if length(grad) > 0 \n",
    "        grad[1] = -1\n",
    "        grad[2] = -data[\"p\"][1]\n",
    "        grad[3] = -data[\"p\"][2]\n",
    "        grad[4] = -data[\"p\"][3]\n",
    "    end\n",
    "    return -x[1] - sum(data[\"p\"][i]*(x[i+1] - data[\"e\"][i]) for i in 1:data[\"n\"])\n",
    "end\n",
    "        \n",
    "function constr2(x::Vector,grad::Vector,data::Dict)\n",
    "    if length(grad) > 0 \n",
    "        grad[1] = 1\n",
    "        grad[2] = data[\"p\"][1]\n",
    "        grad[3] = data[\"p\"][2]\n",
    "        grad[4] = data[\"p\"][3]\n",
    "    end\n",
    "    return x[1] + sum(data[\"p\"][i]*(x[i+1] - data[\"e\"][i]) for i in 1:data[\"n\"])\n",
    "end"
   ]
  },
  {
   "cell_type": "code",
   "execution_count": 5,
   "metadata": {
    "collapsed": false
   },
   "outputs": [
    {
     "data": {
      "text/plain": [
       "(1.2082145081575115,[1.00739,-1.40893,0.800594,1.60095],:XTOL_REACHED)"
      ]
     },
     "execution_count": 5,
     "metadata": {},
     "output_type": "execute_result"
    }
   ],
   "source": [
    "function max_NLopt(a=0.5)\n",
    "\t\topt = Opt(:LD_MMA, 4)\n",
    "        # set bounds and tolerance\n",
    "        lower_bounds!(opt, [0, -Inf, -Inf, -Inf])\n",
    "        #upper_bounds!(opt, [2, 2, 2, 2])\n",
    "        xtol_rel!(opt,1e-4)\n",
    "        d = data(a)\n",
    "        obj2(x,g) = obj(x,g,d)\n",
    "        # define objective function\n",
    "        min_objective!(opt, obj2)\n",
    "        # define constraints\n",
    "        # notice the anonymous function\n",
    "        inequality_constraint!(opt, (x,g) -> constr(x,g,d), 1e-8)\n",
    "        inequality_constraint!(opt, (x,g) -> constr2(x,g,d), 1e-8)\n",
    "        # call optimize\n",
    "        return optimize(opt, [1.0, 1.0, 0.0, 0.0])\n",
    "\tend\n",
    "max_NLopt(.5)"
   ]
  },
  {
   "cell_type": "code",
   "execution_count": 6,
   "metadata": {
    "collapsed": false
   },
   "outputs": [
    {
     "data": {
      "text/html": [
       "<table class=\"data-frame\"><thead><tr><th></th><th>a</th><th>c</th><th>omega1</th><th>omega2</th><th>omega3</th><th>fval</th></tr></thead><tbody><tr><th>1</th><td>0.5</td><td>1.00801</td><td>-1.41237</td><td>0.801458</td><td>1.60291</td><td>-1.20821</td></tr><tr><th>2</th><td>1.0</td><td>1.00401</td><td>-0.206197</td><td>0.400729</td><td>0.801462</td><td>-0.732819</td></tr><tr><th>3</th><td>5.0</td><td>1.008</td><td>0.758762</td><td>0.0801456</td><td>0.160291</td><td>-0.013422</td></tr></tbody></table>"
      ],
      "text/plain": [
       "3×6 DataFrames.DataFrame\n",
       "│ Row │ a   │ c       │ omega1    │ omega2    │ omega3   │ fval      │\n",
       "├─────┼─────┼─────────┼───────────┼───────────┼──────────┼───────────┤\n",
       "│ 1   │ 0.5 │ 1.00801 │ -1.41237  │ 0.801458  │ 1.60291  │ -1.20821  │\n",
       "│ 2   │ 1.0 │ 1.00401 │ -0.206197 │ 0.400729  │ 0.801462 │ -0.732819 │\n",
       "│ 3   │ 5.0 │ 1.008   │ 0.758762  │ 0.0801456 │ 0.160291 │ -0.013422 │"
      ]
     },
     "execution_count": 6,
     "metadata": {},
     "output_type": "execute_result"
    }
   ],
   "source": [
    "truth = DataFrame(a = [0.5, 1.0, 5.0], \n",
    "    c = [1.00801, 1.00401, 1.008], \n",
    "    omega1 = [-1.41237, -.206197, .758762], \n",
    "    omega2 = [.801458, .400729, .0801456], \n",
    "    omega3 = [1.60291, .801462, .160291], \n",
    "    fval = [-1.20821, -.732819, -.013422])"
   ]
  },
  {
   "cell_type": "code",
   "execution_count": 7,
   "metadata": {
    "collapsed": false
   },
   "outputs": [
    {
     "data": {
      "text/plain": [
       "table_NLopt (generic function with 1 method)"
      ]
     },
     "execution_count": 7,
     "metadata": {},
     "output_type": "execute_result"
    }
   ],
   "source": [
    "function table_NLopt()\n",
    "    tableNLopt = DataFrame(a = Float64[], \n",
    "        c = Float64[], omega1 = Float64[], omega2 = Float64[], omega3 = Float64[], fval = Float64[])\n",
    "    i = 1\n",
    "\tfor a in [.5 1 5]\n",
    "        #d = data(a)\n",
    "        fval, xvals, res = max_NLopt(a)\n",
    "        push!(tableNLopt,[a xvals[1] xvals[2] xvals[3] xvals[4] -fval])\n",
    "        i = i+1\n",
    "    end\n",
    "    return tableNLopt\n",
    "end"
   ]
  },
  {
   "cell_type": "code",
   "execution_count": 8,
   "metadata": {
    "collapsed": false
   },
   "outputs": [
    {
     "data": {
      "text/html": [
       "<table class=\"data-frame\"><thead><tr><th></th><th>a</th><th>c</th><th>omega1</th><th>omega2</th><th>omega3</th><th>fval</th></tr></thead><tbody><tr><th>1</th><td>0.5</td><td>1.0073863234701772</td><td>-1.4089304377990877</td><td>0.8005939325845778</td><td>1.6009499552601423</td><td>-1.2082145081575115</td></tr><tr><th>2</th><td>1.0</td><td>1.004378103201449</td><td>-0.20662814120223943</td><td>0.4010545007858742</td><td>0.8011955767222014</td><td>-0.7328191000596802</td></tr><tr><th>3</th><td>5.0</td><td>1.0007739198707313</td><td>0.7588405291455497</td><td>0.08007020609199152</td><td>0.16031542446281602</td><td>-0.013422046786144063</td></tr></tbody></table>"
      ],
      "text/plain": [
       "3×6 DataFrames.DataFrame\n",
       "│ Row │ a   │ c       │ omega1    │ omega2    │ omega3   │ fval      │\n",
       "├─────┼─────┼─────────┼───────────┼───────────┼──────────┼───────────┤\n",
       "│ 1   │ 0.5 │ 1.00739 │ -1.40893  │ 0.800594  │ 1.60095  │ -1.20821  │\n",
       "│ 2   │ 1.0 │ 1.00438 │ -0.206628 │ 0.401055  │ 0.801196 │ -0.732819 │\n",
       "│ 3   │ 5.0 │ 1.00077 │ 0.758841  │ 0.0800702 │ 0.160315 │ -0.013422 │"
      ]
     },
     "execution_count": 8,
     "metadata": {},
     "output_type": "execute_result"
    }
   ],
   "source": [
    "tno = table_NLopt()"
   ]
  },
  {
   "cell_type": "code",
   "execution_count": 9,
   "metadata": {
    "collapsed": false
   },
   "outputs": [
    {
     "name": "stdout",
     "output_type": "stream",
     "text": [
      "\u001b[1m\u001b[31mTest Failed\n",
      "\u001b[0m  Expression: abs(tno[i,j] - truth[i,j]) < 0.005\n",
      "   Evaluated: 0.0072260801292687304 < 0.005\n"
     ]
    },
    {
     "ename": "LoadError",
     "evalue": "There was an error during testing",
     "output_type": "error",
     "traceback": [
      "There was an error during testing",
      "",
      " in record(::Base.Test.FallbackTestSet, ::Base.Test.Fail) at ./test.jl:397",
      " in do_test(::Base.Test.Returned, ::Expr) at ./test.jl:281",
      " in macro expansion; at ./In[9]:3 [inlined]",
      " in anonymous at ./<missing>:?",
      " in execute_request(::ZMQ.Socket, ::IJulia.Msg) at /home/opmc/.julia/v0.5/IJulia/src/execute_request.jl:157",
      " in eventloop(::ZMQ.Socket) at /home/opmc/.julia/v0.5/IJulia/src/eventloop.jl:8",
      " in (::IJulia.##13#19)() at ./task.jl:360"
     ]
    }
   ],
   "source": [
    "#tno = table_NLopt()\n",
    "for i in 1:3, j in 2:6\n",
    "    @test abs(tno[i,j] - truth[i,j]) < .005\n",
    "end"
   ]
  },
  {
   "cell_type": "code",
   "execution_count": 10,
   "metadata": {
    "collapsed": false
   },
   "outputs": [
    {
     "data": {
      "text/html": [
       "<table class=\"data-frame\"><thead><tr><th></th><th>a</th><th>c</th><th>omega1</th><th>omega2</th><th>omega3</th><th>fval</th></tr></thead><tbody><tr><th>1</th><td>0.5</td><td>1.00801</td><td>-1.41237</td><td>0.801458</td><td>1.60291</td><td>-1.20821</td></tr><tr><th>2</th><td>1.0</td><td>1.00401</td><td>-0.206197</td><td>0.400729</td><td>0.801462</td><td>-0.732819</td></tr><tr><th>3</th><td>5.0</td><td>1.008</td><td>0.758762</td><td>0.0801456</td><td>0.160291</td><td>-0.013422</td></tr></tbody></table>"
      ],
      "text/plain": [
       "3×6 DataFrames.DataFrame\n",
       "│ Row │ a   │ c       │ omega1    │ omega2    │ omega3   │ fval      │\n",
       "├─────┼─────┼─────────┼───────────┼───────────┼──────────┼───────────┤\n",
       "│ 1   │ 0.5 │ 1.00801 │ -1.41237  │ 0.801458  │ 1.60291  │ -1.20821  │\n",
       "│ 2   │ 1.0 │ 1.00401 │ -0.206197 │ 0.400729  │ 0.801462 │ -0.732819 │\n",
       "│ 3   │ 5.0 │ 1.008   │ 0.758762  │ 0.0801456 │ 0.160291 │ -0.013422 │"
      ]
     },
     "execution_count": 10,
     "metadata": {},
     "output_type": "execute_result"
    }
   ],
   "source": [
    "truth"
   ]
  },
  {
   "cell_type": "code",
   "execution_count": 12,
   "metadata": {
    "collapsed": false
   },
   "outputs": [
    {
     "data": {
      "text/plain": [
       "max_JuMP (generic function with 2 methods)"
      ]
     },
     "execution_count": 12,
     "metadata": {},
     "output_type": "execute_result"
    }
   ],
   "source": [
    "using JuMP\n",
    "using Ipopt\n",
    "\n",
    "function max_JuMP(a=.5)\n",
    "    d = data(a)\n",
    "    m = Model(solver=IpoptSolver())\n",
    "    @variable(m, c >= 0, start=1.0)\n",
    "    @variable(m, omega[1:3])\n",
    "\n",
    "    @NLobjective(m, Max, -exp(-a*c) + sum(-.0625*exp(-a*sum(omega[j]*d[\"z\"][s,j] for j in 1:d[\"n\"])) for s in 1:16 ))\n",
    "    @NLconstraint(m, c + sum(d[\"p\"][i]*(omega[i] - d[\"e\"][i]) for i in 1:d[\"n\"])==0)\n",
    "\n",
    "    solve(m)\n",
    "        \n",
    "    cons = getvalue(c)\n",
    "    maximum = getobjectivevalue(m)\n",
    "    omegas = getvalue(omega)\n",
    "    return cons, maximum, omegas\n",
    "end\n"
   ]
  },
  {
   "cell_type": "code",
   "execution_count": 13,
   "metadata": {
    "collapsed": false
   },
   "outputs": [
    {
     "data": {
      "text/plain": [
       "table_JuMP (generic function with 1 method)"
      ]
     },
     "execution_count": 13,
     "metadata": {},
     "output_type": "execute_result"
    }
   ],
   "source": [
    "function table_JuMP()\n",
    "    tableJuMP = DataFrame(a = Float64[], \n",
    "        c = Float64[], omega1 = Float64[], omega2 = Float64[], omega3 = Float64[], fval = Float64[])\n",
    "    i = 1\n",
    "\tfor a in [.5 1 5]\n",
    "        cons, fval, omegas = max_JuMP(a)\n",
    "        push!(tableJuMP,[a cons omegas[1] omegas[2] omegas[3] fval])\n",
    "        i = i+1\n",
    "    end\n",
    "    return tableJuMP\n",
    "end"
   ]
  },
  {
   "cell_type": "code",
   "execution_count": 14,
   "metadata": {
    "collapsed": false
   },
   "outputs": [
    {
     "name": "stdout",
     "output_type": "stream",
     "text": [
      "\n",
      "******************************************************************************\n",
      "This program contains Ipopt, a library for large-scale nonlinear optimization.\n",
      " Ipopt is released as open source code under the Eclipse Public License (EPL).\n",
      "         For more information visit http://projects.coin-or.org/Ipopt\n",
      "******************************************************************************\n",
      "\n",
      "This is Ipopt version 3.12.1, running with linear solver mumps.\n",
      "NOTE: Other linear solvers might be more efficient (see Ipopt documentation).\n",
      "\n",
      "Number of nonzeros in equality constraint Jacobian...:        4\n",
      "Number of nonzeros in inequality constraint Jacobian.:        0\n",
      "Number of nonzeros in Lagrangian Hessian.............:        7\n",
      "\n",
      "Total number of variables............................:        4\n",
      "                     variables with only lower bounds:        1\n",
      "                variables with lower and upper bounds:        0\n",
      "                     variables with only upper bounds:        0\n",
      "Total number of equality constraints.................:        1\n",
      "Total number of inequality constraints...............:        0\n",
      "        inequality constraints with only lower bounds:        0\n",
      "   inequality constraints with lower and upper bounds:        0\n",
      "        inequality constraints with only upper bounds:        0\n",
      "\n",
      "iter    objective    inf_pr   inf_du lg(mu)  ||d||  lg(rg) alpha_du alpha_pr  ls\n",
      "   0  1.6065307e+00 1.00e+00 5.99e-01  -1.0 0.00e+00    -  0.00e+00 0.00e+00   0\n",
      "   1  1.2096999e+00 0.00e+00 5.32e-02  -1.7 8.31e-01    -  9.56e-01 1.00e+00h  1\n",
      "   2  1.2082362e+00 6.66e-16 6.75e-04  -2.5 1.10e+00    -  1.00e+00 1.00e+00f  1\n",
      "   3  1.2082144e+00 4.44e-16 5.47e-06  -3.8 1.77e-02    -  1.00e+00 1.00e+00f  1\n",
      "   4  1.2082144e+00 2.22e-16 1.34e-08  -5.7 5.93e-04    -  1.00e+00 1.00e+00f  1\n",
      "   5  1.2082144e+00 4.44e-16 1.57e-12  -8.6 6.40e-06    -  1.00e+00 1.00e+00h  1\n",
      "\n",
      "Number of Iterations....: 5\n",
      "\n",
      "                                   (scaled)                 (unscaled)\n",
      "Objective...............:   1.2082143751475223e+00    1.2082143751475223e+00\n",
      "Dual infeasibility......:   1.5712933887949640e-12    1.5712933887949640e-12\n",
      "Constraint violation....:   4.4408920985006262e-16    4.4408920985006262e-16\n",
      "Complementarity.........:   2.5182732178831473e-09    2.5182732178831473e-09\n",
      "Overall NLP error.......:   2.5182732178831473e-09    2.5182732178831473e-09\n",
      "\n",
      "\n",
      "Number of objective function evaluations             = 6\n",
      "Number of objective gradient evaluations             = 6\n",
      "Number of equality constraint evaluations            = 6\n",
      "Number of inequality constraint evaluations          = 0\n",
      "Number of equality constraint Jacobian evaluations   = 6\n",
      "Number of inequality constraint Jacobian evaluations = 0\n",
      "Number of Lagrangian Hessian evaluations             = 5\n",
      "Total CPU secs in IPOPT (w/o function evaluations)   =      0.134\n",
      "Total CPU secs in NLP function evaluations           =      0.029\n",
      "\n",
      "EXIT: Optimal Solution Found.\n",
      "This is Ipopt version 3.12.1, running with linear solver mumps.\n",
      "NOTE: Other linear solvers might be more efficient (see Ipopt documentation).\n",
      "\n",
      "Number of nonzeros in equality constraint Jacobian...:        4\n",
      "Number of nonzeros in inequality constraint Jacobian.:        0\n",
      "Number of nonzeros in Lagrangian Hessian.............:        7\n",
      "\n",
      "Total number of variables............................:        4\n",
      "                     variables with only lower bounds:        1\n",
      "                variables with lower and upper bounds:        0\n",
      "                     variables with only upper bounds:        0\n",
      "Total number of equality constraints.................:        1\n",
      "Total number of inequality constraints...............:        0\n",
      "        inequality constraints with only lower bounds:        0\n",
      "   inequality constraints with lower and upper bounds:        0\n",
      "        inequality constraints with only upper bounds:        0\n",
      "\n",
      "iter    objective    inf_pr   inf_du lg(mu)  ||d||  lg(rg) alpha_du alpha_pr  ls\n",
      "   0  1.3678794e+00 1.00e+00 2.68e-01  -1.0 0.00e+00    -  0.00e+00 0.00e+00   0\n",
      "   1  7.4475164e-01 2.22e-16 2.78e-01  -1.7 6.40e-01    -  8.65e-01 1.00e+00h  1\n",
      "   2  7.3316681e-01 0.00e+00 6.61e-03  -1.7 7.31e-01    -  1.00e+00 1.00e+00f  1\n",
      "   3  7.3281942e-01 0.00e+00 2.13e-04  -3.8 1.12e-01    -  1.00e+00 1.00e+00f  1\n",
      "   4  7.3281906e-01 2.22e-16 2.19e-07  -5.7 3.21e-03    -  1.00e+00 1.00e+00f  1\n",
      "   5  7.3281906e-01 0.00e+00 2.18e-12  -8.6 3.36e-06    -  1.00e+00 1.00e+00h  1\n",
      "\n",
      "Number of Iterations....: 5\n",
      "\n",
      "                                   (scaled)                 (unscaled)\n",
      "Objective...............:   7.3281906203251379e-01    7.3281906203251379e-01\n",
      "Dual infeasibility......:   2.1826429552618265e-12    2.1826429552618265e-12\n",
      "Constraint violation....:   0.0000000000000000e+00    0.0000000000000000e+00\n",
      "Complementarity.........:   2.5140657140060633e-09    2.5140657140060633e-09\n",
      "Overall NLP error.......:   2.5140657140060633e-09    2.5140657140060633e-09\n",
      "\n",
      "\n",
      "Number of objective function evaluations             = 6\n",
      "Number of objective gradient evaluations             = 6\n",
      "Number of equality constraint evaluations            = 6\n",
      "Number of inequality constraint evaluations          = 0\n",
      "Number of equality constraint Jacobian evaluations   = 6\n",
      "Number of inequality constraint Jacobian evaluations = 0\n",
      "Number of Lagrangian Hessian evaluations             = 5\n",
      "Total CPU secs in IPOPT (w/o function evaluations)   =      0.001\n",
      "Total CPU secs in NLP function evaluations           =      0.000\n",
      "\n",
      "EXIT: Optimal Solution Found.\n",
      "This is Ipopt version 3.12.1, running with linear solver mumps.\n",
      "NOTE: Other linear solvers might be more efficient (see Ipopt documentation).\n",
      "\n",
      "Number of nonzeros in equality constraint Jacobian...:        4\n",
      "Number of nonzeros in inequality constraint Jacobian.:        0\n",
      "Number of nonzeros in Lagrangian Hessian.............:        7\n",
      "\n",
      "Total number of variables............................:        4\n",
      "                     variables with only lower bounds:        1\n",
      "                variables with lower and upper bounds:        0\n",
      "                     variables with only upper bounds:        0\n",
      "Total number of equality constraints.................:        1\n",
      "Total number of inequality constraints...............:        0\n",
      "        inequality constraints with only lower bounds:        0\n",
      "   inequality constraints with lower and upper bounds:        0\n",
      "        inequality constraints with only upper bounds:        0\n",
      "\n",
      "iter    objective    inf_pr   inf_du lg(mu)  ||d||  lg(rg) alpha_du alpha_pr  ls\n",
      "   0  1.0067379e+00 1.00e+00 3.01e+00  -1.0 0.00e+00    -  0.00e+00 0.00e+00   0\n",
      "   1  3.1590698e-01 0.00e+00 2.38e+00  -1.0 7.69e-01    -  5.93e-01 1.00e+00f  1\n",
      "   2  1.2096719e-01 0.00e+00 5.57e-01  -1.0 1.92e-01    -  1.00e+00 1.00e+00f  1\n",
      "   3  4.7104516e-02 0.00e+00 2.12e-01  -1.7 1.92e-01    -  1.00e+00 1.00e+00f  1\n",
      "   4  2.1399485e-02 0.00e+00 7.06e-02  -1.7 1.77e-01    -  1.00e+00 1.00e+00f  1\n",
      "   5  1.4072846e-02 2.22e-16 2.11e-02  -2.5 1.47e-01    -  1.00e+00 1.00e+00f  1\n",
      "   6  1.3426032e-02 2.22e-16 1.96e-03  -3.8 7.90e-02    -  1.00e+00 1.00e+00f  1\n",
      "   7  1.3422089e-02 0.00e+00 1.64e-05  -3.8 4.56e-02    -  1.00e+00 1.00e+00f  1\n",
      "   8  1.3422049e-02 0.00e+00 1.03e-07  -5.7 4.95e-04    -  1.00e+00 1.00e+00f  1\n",
      "   9  1.3422049e-02 2.22e-16 1.38e-11  -8.6 5.71e-06    -  1.00e+00 1.00e+00f  1\n",
      "\n",
      "Number of Iterations....: 9\n",
      "\n",
      "                                   (scaled)                 (unscaled)\n",
      "Objective...............:   1.3422049310968423e-02    1.3422049310968423e-02\n",
      "Dual infeasibility......:   1.3815490418345178e-11    1.3815490418345178e-11\n",
      "Constraint violation....:   2.2204460492503131e-16    2.2204460492503131e-16\n",
      "Complementarity.........:   2.5168138763691110e-09    2.5168138763691110e-09\n",
      "Overall NLP error.......:   2.5168138763691110e-09    2.5168138763691110e-09\n",
      "\n",
      "\n",
      "Number of objective function evaluations             = 10\n",
      "Number of objective gradient evaluations             = 10\n",
      "Number of equality constraint evaluations            = 10\n",
      "Number of inequality constraint evaluations          = 0\n",
      "Number of equality constraint Jacobian evaluations   = 10\n",
      "Number of inequality constraint Jacobian evaluations = 0\n",
      "Number of Lagrangian Hessian evaluations             = 9\n",
      "Total CPU secs in IPOPT (w/o function evaluations)   =      0.002\n",
      "Total CPU secs in NLP function evaluations           =      0.000\n",
      "\n",
      "EXIT: Optimal Solution Found.\n"
     ]
    },
    {
     "data": {
      "text/html": [
       "<table class=\"data-frame\"><thead><tr><th></th><th>a</th><th>c</th><th>omega1</th><th>omega2</th><th>omega3</th><th>fval</th></tr></thead><tbody><tr><th>1</th><td>0.5</td><td>1.0080072761139212</td><td>-1.4123723460566386</td><td>0.8014550233142548</td><td>1.6029100466284625</td><td>-1.2082143751475223</td></tr><tr><th>2</th><td>1.0</td><td>1.004003637338535</td><td>-0.20618617229661196</td><td>0.40072751165269754</td><td>0.8014550233053792</td><td>-0.7328190620325138</td></tr><tr><th>3</th><td>5.0</td><td>1.000800734278811</td><td>0.7587627587780034</td><td>0.08014550231439514</td><td>0.16029100462879056</td><td>-0.013422049310968423</td></tr></tbody></table>"
      ],
      "text/plain": [
       "3×6 DataFrames.DataFrame\n",
       "│ Row │ a   │ c       │ omega1    │ omega2    │ omega3   │ fval      │\n",
       "├─────┼─────┼─────────┼───────────┼───────────┼──────────┼───────────┤\n",
       "│ 1   │ 0.5 │ 1.00801 │ -1.41237  │ 0.801455  │ 1.60291  │ -1.20821  │\n",
       "│ 2   │ 1.0 │ 1.004   │ -0.206186 │ 0.400728  │ 0.801455 │ -0.732819 │\n",
       "│ 3   │ 5.0 │ 1.0008  │ 0.758763  │ 0.0801455 │ 0.160291 │ -0.013422 │"
      ]
     },
     "execution_count": 14,
     "metadata": {},
     "output_type": "execute_result"
    }
   ],
   "source": [
    "tJu = table_JuMP()"
   ]
  },
  {
   "cell_type": "code",
   "execution_count": 20,
   "metadata": {
    "collapsed": false
   },
   "outputs": [],
   "source": [
    "for i in 1:3, j in 2:6\n",
    "    @test abs(tJu[i,j] - tno[i,j]) < .005\n",
    "end"
   ]
  },
  {
   "cell_type": "code",
   "execution_count": 148,
   "metadata": {
    "collapsed": false
   },
   "outputs": [
    {
     "name": "stderr",
     "output_type": "stream",
     "text": [
      "WARNING: replacing module HW_constrained\n"
     ]
    },
    {
     "data": {
      "text/plain": [
       "HW_constrained"
      ]
     },
     "execution_count": 148,
     "metadata": {},
     "output_type": "execute_result"
    }
   ],
   "source": [
    "include(\"src/HW_constrained.jl\")"
   ]
  },
  {
   "cell_type": "code",
   "execution_count": 149,
   "metadata": {
    "collapsed": false
   },
   "outputs": [
    {
     "name": "stdout",
     "output_type": "stream",
     "text": [
      "running tests:\n",
      "\u001b[1m\u001b[37mTest Summary:      | \u001b[0m\n",
      "  testing components | \u001b[1m\u001b[34mNo tests\u001b[0m\n"
     ]
    },
    {
     "name": "stderr",
     "output_type": "stream",
     "text": [
      "WARNING: replacing module AssetTests\n"
     ]
    },
    {
     "name": "stdout",
     "output_type": "stream",
     "text": [
      "This is Ipopt version 3.12.1, running with linear solver mumps.\n",
      "NOTE: Other linear solvers might be more efficient (see Ipopt documentation).\n",
      "\n",
      "Number of nonzeros in equality constraint Jacobian...:        4\n",
      "Number of nonzeros in inequality constraint Jacobian.:        0\n",
      "Number of nonzeros in Lagrangian Hessian.............:        7\n",
      "\n",
      "Total number of variables............................:        4\n",
      "                     variables with only lower bounds:        1\n",
      "                variables with lower and upper bounds:        0\n",
      "                     variables with only upper bounds:        0\n",
      "Total number of equality constraints.................:        1\n",
      "Total number of inequality constraints...............:        0\n",
      "        inequality constraints with only lower bounds:        0\n",
      "   inequality constraints with lower and upper bounds:        0\n",
      "        inequality constraints with only upper bounds:        0\n",
      "\n",
      "iter    objective    inf_pr   inf_du lg(mu)  ||d||  lg(rg) alpha_du alpha_pr  ls\n",
      "   0  1.6065307e+00 1.00e+00 5.99e-01  -1.0 0.00e+00    -  0.00e+00 0.00e+00   0\n",
      "   1  1.2096999e+00 0.00e+00 5.32e-02  -1.7 8.31e-01    -  9.56e-01 1.00e+00h  1\n",
      "   2  1.2082362e+00 6.66e-16 6.75e-04  -2.5 1.10e+00    -  1.00e+00 1.00e+00f  1\n",
      "   3  1.2082144e+00 4.44e-16 5.47e-06  -3.8 1.77e-02    -  1.00e+00 1.00e+00f  1\n",
      "   4  1.2082144e+00 2.22e-16 1.34e-08  -5.7 5.93e-04    -  1.00e+00 1.00e+00f  1\n",
      "   5  1.2082144e+00 4.44e-16 1.57e-12  -8.6 6.40e-06    -  1.00e+00 1.00e+00h  1\n",
      "\n",
      "Number of Iterations....: 5\n",
      "\n",
      "                                   (scaled)                 (unscaled)\n",
      "Objective...............:   1.2082143751475223e+00    1.2082143751475223e+00\n",
      "Dual infeasibility......:   1.5712933887949640e-12    1.5712933887949640e-12\n",
      "Constraint violation....:   4.4408920985006262e-16    4.4408920985006262e-16\n",
      "Complementarity.........:   2.5182732178831473e-09    2.5182732178831473e-09\n",
      "Overall NLP error.......:   2.5182732178831473e-09    2.5182732178831473e-09\n",
      "\n",
      "\n",
      "Number of objective function evaluations             = 6\n",
      "Number of objective gradient evaluations             = 6\n",
      "Number of equality constraint evaluations            = 6\n",
      "Number of inequality constraint evaluations          = 0\n",
      "Number of equality constraint Jacobian evaluations   = 6\n",
      "Number of inequality constraint Jacobian evaluations = 0\n",
      "Number of Lagrangian Hessian evaluations             = 5\n",
      "Total CPU secs in IPOPT (w/o function evaluations)   =      0.001\n",
      "Total CPU secs in NLP function evaluations           =      0.000\n",
      "\n",
      "EXIT: Optimal Solution Found.\n",
      "This is Ipopt version 3.12.1, running with linear solver mumps.\n",
      "NOTE: Other linear solvers might be more efficient (see Ipopt documentation).\n",
      "\n",
      "Number of nonzeros in equality constraint Jacobian...:        4\n",
      "Number of nonzeros in inequality constraint Jacobian.:        0\n",
      "Number of nonzeros in Lagrangian Hessian.............:        7\n",
      "\n",
      "Total number of variables............................:        4\n",
      "                     variables with only lower bounds:        1\n",
      "                variables with lower and upper bounds:        0\n",
      "                     variables with only upper bounds:        0\n",
      "Total number of equality constraints.................:        1\n",
      "Total number of inequality constraints...............:        0\n",
      "        inequality constraints with only lower bounds:        0\n",
      "   inequality constraints with lower and upper bounds:        0\n",
      "        inequality constraints with only upper bounds:        0\n",
      "\n",
      "iter    objective    inf_pr   inf_du lg(mu)  ||d||  lg(rg) alpha_du alpha_pr  ls\n",
      "   0  1.3678794e+00 1.00e+00 2.68e-01  -1.0 0.00e+00    -  0.00e+00 0.00e+00   0\n",
      "   1  7.4475164e-01 2.22e-16 2.78e-01  -1.7 6.40e-01    -  8.65e-01 1.00e+00h  1\n",
      "   2  7.3316681e-01 0.00e+00 6.61e-03  -1.7 7.31e-01    -  1.00e+00 1.00e+00f  1\n",
      "   3  7.3281942e-01 0.00e+00 2.13e-04  -3.8 1.12e-01    -  1.00e+00 1.00e+00f  1\n",
      "   4  7.3281906e-01 2.22e-16 2.19e-07  -5.7 3.21e-03    -  1.00e+00 1.00e+00f  1\n",
      "   5  7.3281906e-01 0.00e+00 2.18e-12  -8.6 3.36e-06    -  1.00e+00 1.00e+00h  1\n",
      "\n",
      "Number of Iterations....: 5\n",
      "\n",
      "                                   (scaled)                 (unscaled)\n",
      "Objective...............:   7.3281906203251379e-01    7.3281906203251379e-01\n",
      "Dual infeasibility......:   2.1826429552618265e-12    2.1826429552618265e-12\n",
      "Constraint violation....:   0.0000000000000000e+00    0.0000000000000000e+00\n",
      "Complementarity.........:   2.5140657140060633e-09    2.5140657140060633e-09\n",
      "Overall NLP error.......:   2.5140657140060633e-09    2.5140657140060633e-09\n",
      "\n",
      "\n",
      "Number of objective function evaluations             = 6\n",
      "Number of objective gradient evaluations             = 6\n",
      "Number of equality constraint evaluations            = 6\n",
      "Number of inequality constraint evaluations          = 0\n",
      "Number of equality constraint Jacobian evaluations   = 6\n",
      "Number of inequality constraint Jacobian evaluations = 0\n",
      "Number of Lagrangian Hessian evaluations             = 5\n",
      "Total CPU secs in IPOPT (w/o function evaluations)   =      0.001\n",
      "Total CPU secs in NLP function evaluations           =      0.000\n",
      "\n",
      "EXIT: Optimal Solution Found.\n",
      "This is Ipopt version 3.12.1, running with linear solver mumps.\n",
      "NOTE: Other linear solvers might be more efficient (see Ipopt documentation).\n",
      "\n",
      "Number of nonzeros in equality constraint Jacobian...:        4\n",
      "Number of nonzeros in inequality constraint Jacobian.:        0\n",
      "Number of nonzeros in Lagrangian Hessian.............:        7\n",
      "\n",
      "Total number of variables............................:        4\n",
      "                     variables with only lower bounds:        1\n",
      "                variables with lower and upper bounds:        0\n",
      "                     variables with only upper bounds:        0\n",
      "Total number of equality constraints.................:        1\n",
      "Total number of inequality constraints...............:        0\n",
      "        inequality constraints with only lower bounds:        0\n",
      "   inequality constraints with lower and upper bounds:        0\n",
      "        inequality constraints with only upper bounds:        0\n",
      "\n",
      "iter    objective    inf_pr   inf_du lg(mu)  ||d||  lg(rg) alpha_du alpha_pr  ls\n",
      "   0  1.0067379e+00 1.00e+00 3.01e+00  -1.0 0.00e+00    -  0.00e+00 0.00e+00   0\n",
      "   1  3.1590698e-01 0.00e+00 2.38e+00  -1.0 7.69e-01    -  5.93e-01 1.00e+00f  1\n",
      "   2  1.2096719e-01 0.00e+00 5.57e-01  -1.0 1.92e-01    -  1.00e+00 1.00e+00f  1\n",
      "   3  4.7104516e-02 0.00e+00 2.12e-01  -1.7 1.92e-01    -  1.00e+00 1.00e+00f  1\n",
      "   4  2.1399485e-02 0.00e+00 7.06e-02  -1.7 1.77e-01    -  1.00e+00 1.00e+00f  1\n",
      "   5  1.4072846e-02 2.22e-16 2.11e-02  -2.5 1.47e-01    -  1.00e+00 1.00e+00f  1\n",
      "   6  1.3426032e-02 2.22e-16 1.96e-03  -3.8 7.90e-02    -  1.00e+00 1.00e+00f  1\n",
      "   7  1.3422089e-02 0.00e+00 1.64e-05  -3.8 4.56e-02    -  1.00e+00 1.00e+00f  1\n",
      "   8  1.3422049e-02 0.00e+00 1.03e-07  -5.7 4.95e-04    -  1.00e+00 1.00e+00f  1\n",
      "   9  1.3422049e-02 2.22e-16 1.38e-11  -8.6 5.71e-06    -  1.00e+00 1.00e+00f  1\n",
      "\n",
      "Number of Iterations....: 9\n",
      "\n",
      "                                   (scaled)                 (unscaled)\n",
      "Objective...............:   1.3422049310968423e-02    1.3422049310968423e-02\n",
      "Dual infeasibility......:   1.3815490418345178e-11    1.3815490418345178e-11\n",
      "Constraint violation....:   2.2204460492503131e-16    2.2204460492503131e-16\n",
      "Complementarity.........:   2.5168138763691110e-09    2.5168138763691110e-09\n",
      "Overall NLP error.......:   2.5168138763691110e-09    2.5168138763691110e-09\n",
      "\n",
      "\n",
      "Number of objective function evaluations             = 10\n",
      "Number of objective gradient evaluations             = 10\n",
      "Number of equality constraint evaluations            = 10\n",
      "Number of inequality constraint evaluations          = 0\n",
      "Number of equality constraint Jacobian evaluations   = 10\n",
      "Number of inequality constraint Jacobian evaluations = 0\n",
      "Number of Lagrangian Hessian evaluations             = 9\n",
      "Total CPU secs in IPOPT (w/o function evaluations)   =      0.002\n",
      "Total CPU secs in NLP function evaluations           =      0.000\n",
      "\n",
      "EXIT: Optimal Solution Found.\n",
      "\u001b[1m\u001b[37mTest Summary:                               | \u001b[0m\u001b[1m\u001b[32mPass  \u001b[0m\u001b[1m\u001b[34mTotal\u001b[0m\n",
      "  testing result of both maximization methods | \u001b[1m\u001b[32m  30  \u001b[0m\u001b[1m\u001b[34m   30\u001b[0m\n",
      "\n",
      "JumP:\n",
      "This is Ipopt version 3.12.1, running with linear solver mumps.\n",
      "NOTE: Other linear solvers might be more efficient (see Ipopt documentation).\n",
      "\n",
      "Number of nonzeros in equality constraint Jacobian...:        4\n",
      "Number of nonzeros in inequality constraint Jacobian.:        0\n",
      "Number of nonzeros in Lagrangian Hessian.............:        7\n",
      "\n",
      "Total number of variables............................:        4\n",
      "                     variables with only lower bounds:        1\n",
      "                variables with lower and upper bounds:        0\n",
      "                     variables with only upper bounds:        0\n",
      "Total number of equality constraints.................:        1\n",
      "Total number of inequality constraints...............:        0\n",
      "        inequality constraints with only lower bounds:        0\n",
      "   inequality constraints with lower and upper bounds:        0\n",
      "        inequality constraints with only upper bounds:        0\n",
      "\n",
      "iter    objective    inf_pr   inf_du lg(mu)  ||d||  lg(rg) alpha_du alpha_pr  ls\n",
      "   0  1.6065307e+00 1.00e+00 5.99e-01  -1.0 0.00e+00    -  0.00e+00 0.00e+00   0\n",
      "   1  1.2096999e+00 0.00e+00 5.32e-02  -1.7 8.31e-01    -  9.56e-01 1.00e+00h  1\n",
      "   2  1.2082362e+00 6.66e-16 6.75e-04  -2.5 1.10e+00    -  1.00e+00 1.00e+00f  1\n",
      "   3  1.2082144e+00 4.44e-16 5.47e-06  -3.8 1.77e-02    -  1.00e+00 1.00e+00f  1\n",
      "   4  1.2082144e+00 2.22e-16 1.34e-08  -5.7 5.93e-04    -  1.00e+00 1.00e+00f  1\n",
      "   5  1.2082144e+00 4.44e-16 1.57e-12  -8.6 6.40e-06    -  1.00e+00 1.00e+00h  1\n",
      "\n",
      "Number of Iterations....: 5\n",
      "\n",
      "                                   (scaled)                 (unscaled)\n",
      "Objective...............:   1.2082143751475223e+00    1.2082143751475223e+00\n",
      "Dual infeasibility......:   1.5712933887949640e-12    1.5712933887949640e-12\n",
      "Constraint violation....:   4.4408920985006262e-16    4.4408920985006262e-16\n",
      "Complementarity.........:   2.5182732178831473e-09    2.5182732178831473e-09\n",
      "Overall NLP error.......:   2.5182732178831473e-09    2.5182732178831473e-09\n",
      "\n",
      "\n",
      "Number of objective function evaluations             = 6\n",
      "Number of objective gradient evaluations             = 6\n",
      "Number of equality constraint evaluations            = 6\n",
      "Number of inequality constraint evaluations          = 0\n",
      "Number of equality constraint Jacobian evaluations   = 6\n",
      "Number of inequality constraint Jacobian evaluations = 0\n",
      "Number of Lagrangian Hessian evaluations             = 5\n",
      "Total CPU secs in IPOPT (w/o function evaluations)   =      0.001\n",
      "Total CPU secs in NLP function evaluations           =      0.000\n",
      "\n",
      "EXIT: Optimal Solution Found.\n",
      "This is Ipopt version 3.12.1, running with linear solver mumps.\n",
      "NOTE: Other linear solvers might be more efficient (see Ipopt documentation).\n",
      "\n",
      "Number of nonzeros in equality constraint Jacobian...:        4\n",
      "Number of nonzeros in inequality constraint Jacobian.:        0\n",
      "Number of nonzeros in Lagrangian Hessian.............:        7\n",
      "\n",
      "Total number of variables............................:        4\n",
      "                     variables with only lower bounds:        1\n",
      "                variables with lower and upper bounds:        0\n",
      "                     variables with only upper bounds:        0\n",
      "Total number of equality constraints.................:        1\n",
      "Total number of inequality constraints...............:        0\n",
      "        inequality constraints with only lower bounds:        0\n",
      "   inequality constraints with lower and upper bounds:        0\n",
      "        inequality constraints with only upper bounds:        0\n",
      "\n",
      "iter    objective    inf_pr   inf_du lg(mu)  ||d||  lg(rg) alpha_du alpha_pr  ls\n",
      "   0  1.3678794e+00 1.00e+00 2.68e-01  -1.0 0.00e+00    -  0.00e+00 0.00e+00   0\n",
      "   1  7.4475164e-01 2.22e-16 2.78e-01  -1.7 6.40e-01    -  8.65e-01 1.00e+00h  1\n",
      "   2  7.3316681e-01 0.00e+00 6.61e-03  -1.7 7.31e-01    -  1.00e+00 1.00e+00f  1\n",
      "   3  7.3281942e-01 0.00e+00 2.13e-04  -3.8 1.12e-01    -  1.00e+00 1.00e+00f  1\n",
      "   4  7.3281906e-01 2.22e-16 2.19e-07  -5.7 3.21e-03    -  1.00e+00 1.00e+00f  1\n",
      "   5  7.3281906e-01 0.00e+00 2.18e-12  -8.6 3.36e-06    -  1.00e+00 1.00e+00h  1\n",
      "\n",
      "Number of Iterations....: 5\n",
      "\n",
      "                                   (scaled)                 (unscaled)\n",
      "Objective...............:   7.3281906203251379e-01    7.3281906203251379e-01\n",
      "Dual infeasibility......:   2.1826429552618265e-12    2.1826429552618265e-12\n",
      "Constraint violation....:   0.0000000000000000e+00    0.0000000000000000e+00\n",
      "Complementarity.........:   2.5140657140060633e-09    2.5140657140060633e-09\n",
      "Overall NLP error.......:   2.5140657140060633e-09    2.5140657140060633e-09\n",
      "\n",
      "\n",
      "Number of objective function evaluations             = 6\n",
      "Number of objective gradient evaluations             = 6\n",
      "Number of equality constraint evaluations            = 6\n",
      "Number of inequality constraint evaluations          = 0\n",
      "Number of equality constraint Jacobian evaluations   = 6\n",
      "Number of inequality constraint Jacobian evaluations = 0\n",
      "Number of Lagrangian Hessian evaluations             = 5\n",
      "Total CPU secs in IPOPT (w/o function evaluations)   =      0.001\n",
      "Total CPU secs in NLP function evaluations           =      0.000\n",
      "\n",
      "EXIT: Optimal Solution Found.\n",
      "This is Ipopt version 3.12.1, running with linear solver mumps.\n",
      "NOTE: Other linear solvers might be more efficient (see Ipopt documentation).\n",
      "\n",
      "Number of nonzeros in equality constraint Jacobian...:        4\n",
      "Number of nonzeros in inequality constraint Jacobian.:        0\n",
      "Number of nonzeros in Lagrangian Hessian.............:        7\n",
      "\n",
      "Total number of variables............................:        4\n",
      "                     variables with only lower bounds:        1\n",
      "                variables with lower and upper bounds:        0\n",
      "                     variables with only upper bounds:        0\n",
      "Total number of equality constraints.................:        1\n",
      "Total number of inequality constraints...............:        0\n",
      "        inequality constraints with only lower bounds:        0\n",
      "   inequality constraints with lower and upper bounds:        0\n",
      "        inequality constraints with only upper bounds:        0\n",
      "\n",
      "iter    objective    inf_pr   inf_du lg(mu)  ||d||  lg(rg) alpha_du alpha_pr  ls\n",
      "   0  1.0067379e+00 1.00e+00 3.01e+00  -1.0 0.00e+00    -  0.00e+00 0.00e+00   0\n",
      "   1  3.1590698e-01 0.00e+00 2.38e+00  -1.0 7.69e-01    -  5.93e-01 1.00e+00f  1\n",
      "   2  1.2096719e-01 0.00e+00 5.57e-01  -1.0 1.92e-01    -  1.00e+00 1.00e+00f  1\n",
      "   3  4.7104516e-02 0.00e+00 2.12e-01  -1.7 1.92e-01    -  1.00e+00 1.00e+00f  1\n",
      "   4  2.1399485e-02 0.00e+00 7.06e-02  -1.7 1.77e-01    -  1.00e+00 1.00e+00f  1\n",
      "   5  1.4072846e-02 2.22e-16 2.11e-02  -2.5 1.47e-01    -  1.00e+00 1.00e+00f  1\n",
      "   6  1.3426032e-02 2.22e-16 1.96e-03  -3.8 7.90e-02    -  1.00e+00 1.00e+00f  1\n",
      "   7  1.3422089e-02 0.00e+00 1.64e-05  -3.8 4.56e-02    -  1.00e+00 1.00e+00f  1\n",
      "   8  1.3422049e-02 0.00e+00 1.03e-07  -5.7 4.95e-04    -  1.00e+00 1.00e+00f  1\n",
      "   9  1.3422049e-02 2.22e-16 1.38e-11  -8.6 5.71e-06    -  1.00e+00 1.00e+00f  1\n",
      "\n",
      "Number of Iterations....: 9\n",
      "\n",
      "                                   (scaled)                 (unscaled)\n",
      "Objective...............:   1.3422049310968423e-02    1.3422049310968423e-02\n",
      "Dual infeasibility......:   1.3815490418345178e-11    1.3815490418345178e-11\n",
      "Constraint violation....:   2.2204460492503131e-16    2.2204460492503131e-16\n",
      "Complementarity.........:   2.5168138763691110e-09    2.5168138763691110e-09\n",
      "Overall NLP error.......:   2.5168138763691110e-09    2.5168138763691110e-09\n",
      "\n",
      "\n",
      "Number of objective function evaluations             = 10\n",
      "Number of objective gradient evaluations             = 10\n",
      "Number of equality constraint evaluations            = 10\n",
      "Number of inequality constraint evaluations          = 0\n",
      "Number of equality constraint Jacobian evaluations   = 10\n",
      "Number of inequality constraint Jacobian evaluations = 0\n",
      "Number of Lagrangian Hessian evaluations             = 9\n",
      "Total CPU secs in IPOPT (w/o function evaluations)   =      0.001\n",
      "Total CPU secs in NLP function evaluations           =      0.000\n",
      "\n",
      "EXIT: Optimal Solution Found.\n",
      "\n",
      "NLopt:\n"
     ]
    },
    {
     "ename": "LoadError",
     "evalue": "UndefVarError: ok not defined",
     "output_type": "error",
     "traceback": [
      "UndefVarError: ok not defined",
      "",
      " in runAll() at /home/opmc/Dropbox/Numerical_methods/HW-constrained/src/HW_constrained.jl:147",
      " in execute_request(::ZMQ.Socket, ::IJulia.Msg) at /home/opmc/.julia/v0.5/IJulia/src/execute_request.jl:157",
      " in eventloop(::ZMQ.Socket) at /home/opmc/.julia/v0.5/IJulia/src/eventloop.jl:8",
      " in (::IJulia.##13#19)() at ./task.jl:360"
     ]
    }
   ],
   "source": [
    "HW_constrained.runAll()"
   ]
  },
  {
   "cell_type": "code",
   "execution_count": 31,
   "metadata": {
    "collapsed": false
   },
   "outputs": [
    {
     "name": "stderr",
     "output_type": "stream",
     "text": [
      "WARNING: Method definition obj2(Any) in module Main at In[30]:2 overwritten at In[31]:2.\n"
     ]
    },
    {
     "data": {
      "text/plain": [
       "5-element Array{Float64,1}:\n",
       " -0.303265\n",
       " -0.110765\n",
       " -0.110219\n",
       " -0.111181\n",
       "  0.0     "
      ]
     },
     "execution_count": 31,
     "metadata": {},
     "output_type": "execute_result"
    }
   ],
   "source": [
    "d = data(.5)\n",
    "obj2(x) = -u(d[\"a\"],x[1]) - sum(d[\"pi\"]*u(d[\"a\"],sum(x[j+1]*d[\"z\"][s,j] for j in 1:d[\"n\"])) for s in 1:16 ) \n",
    "using ForwardDiff\n",
    "gradient(obj2, [1, 1, 1, 1])"
   ]
  },
  {
   "cell_type": "code",
   "execution_count": 18,
   "metadata": {
    "collapsed": false
   },
   "outputs": [
    {
     "data": {
      "text/plain": [
       "0.6065306597126334"
      ]
     },
     "execution_count": 18,
     "metadata": {},
     "output_type": "execute_result"
    }
   ],
   "source": [
    "obj2([1 1 1])"
   ]
  },
  {
   "cell_type": "code",
   "execution_count": 29,
   "metadata": {
    "collapsed": false
   },
   "outputs": [
    {
     "name": "stderr",
     "output_type": "stream",
     "text": [
      "WARNING: Method definition u2(Any) in module Main at In[28]:1 overwritten at In[29]:1.\n"
     ]
    },
    {
     "data": {
      "text/plain": [
       "4-element Array{Float64,1}:\n",
       "  0.303265\n",
       " -0.303265\n",
       " -0.18325 \n",
       " -0.182346"
      ]
     },
     "execution_count": 29,
     "metadata": {},
     "output_type": "execute_result"
    }
   ],
   "source": [
    "u2(x) = u(.5,x)\n",
    "truegrad = vcat(gradient(u2,1), gradient(obj2, [1, 1, 1]))"
   ]
  },
  {
   "cell_type": "code",
   "execution_count": 42,
   "metadata": {
    "collapsed": false
   },
   "outputs": [
    {
     "name": "stderr",
     "output_type": "stream",
     "text": [
      "WARNING: Method definition obj2(Any) in module Main at In[41]:3 overwritten at In[42]:4.\n",
      "WARNING: Method definition obj2(Any) in module Main at In[42]:4 overwritten at In[42]:4.\n",
      "WARNING: Method definition obj2(Any) in module Main at In[42]:4 overwritten at In[42]:4.\n"
     ]
    }
   ],
   "source": [
    "for a in [.5 1 1.5]\n",
    "    d = data(a)\n",
    "    x = randn(4)\n",
    "    obj2(x) = -u(d[\"a\"],x[1]) - sum(d[\"pi\"]*u(d[\"a\"],sum(x[j+1]*d[\"z\"][s,j] for j in 1:d[\"n\"])) for s in 1:16 ) \n",
    "    truegrad = gradient(obj2, x)\n",
    "    grad = Vector(4)\n",
    "    grad[1] = -uprime(d[\"a\"],x[1])\n",
    "    grad[2] = -sum(d[\"z\"][s,1]*d[\"pi\"]*uprime(d[\"a\"],sum(x[j+1]*d[\"z\"][s,j] for j in 1:d[\"n\"])) for s in 1:16 )\n",
    "    grad[3] = -sum(d[\"z\"][s,2]*d[\"pi\"]*uprime(d[\"a\"],sum(x[j+1]*d[\"z\"][s,j] for j in 1:d[\"n\"])) for s in 1:16 )\n",
    "    grad[4] = -sum(d[\"z\"][s,3]*d[\"pi\"]*uprime(d[\"a\"],sum(x[j+1]*d[\"z\"][s,j] for j in 1:d[\"n\"])) for s in 1:16 )\n",
    "\n",
    "    @test maxabs(truegrad - grad) <1e-3\n",
    "end"
   ]
  },
  {
   "cell_type": "code",
   "execution_count": 46,
   "metadata": {
    "collapsed": false
   },
   "outputs": [],
   "source": [
    "for a in [.5 1 1.5]\n",
    "                d = data(a)\n",
    "                x = randn(4)\n",
    "                constr_t(x) = -x[1] - sum(d[\"p\"][i]*(x[i+1] - d[\"e\"][i]) for i in 1:d[\"n\"])\n",
    "                truegrad = gradient(constr_t, x)\n",
    "                grad = Vector(4)\n",
    "                grad[1] = -1\n",
    "                grad[2] = -d[\"p\"][1]\n",
    "                grad[3] = -d[\"p\"][2]\n",
    "                grad[4] = -d[\"p\"][3]\n",
    "                @test maxabs(truegrad - grad) <1e-3\n",
    "end"
   ]
  },
  {
   "cell_type": "code",
   "execution_count": null,
   "metadata": {
    "collapsed": true
   },
   "outputs": [],
   "source": []
  }
 ],
 "metadata": {
  "kernelspec": {
   "display_name": "Julia 0.5.0",
   "language": "julia",
   "name": "julia-0.5"
  },
  "language_info": {
   "file_extension": ".jl",
   "mimetype": "application/julia",
   "name": "julia",
   "version": "0.5.1"
  }
 },
 "nbformat": 4,
 "nbformat_minor": 0
}
